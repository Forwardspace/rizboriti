{
  "nbformat": 4,
  "nbformat_minor": 0,
  "metadata": {
    "colab": {
      "provenance": []
    },
    "kernelspec": {
      "name": "python3",
      "display_name": "Python 3"
    },
    "language_info": {
      "name": "python"
    }
  },
  "cells": [
    {
      "cell_type": "markdown",
      "source": [
        "Install and import neccessary libraries. This implementation uses Pandas (and GeoPandas) as well as geopy for geocoding."
      ],
      "metadata": {
        "id": "hP1xPzVRh2PJ"
      }
    },
    {
      "cell_type": "code",
      "execution_count": null,
      "metadata": {
        "collapsed": true,
        "id": "LDAyy3Wmh04a"
      },
      "outputs": [],
      "source": [
        "!pip install pandas\n",
        "!pip install folium matplotlib mapclassify geopandas\n",
        "!pip install geopy\n",
        "\n",
        "import pandas as pd\n",
        "import geopandas as gpd\n",
        "import geopy as gp\n",
        "\n",
        "import os\n",
        "import time"
      ]
    },
    {
      "cell_type": "code",
      "source": [
        "# Setup geocoding provider\n",
        "\n",
        "from geopy.geocoders import GoogleV3\n",
        "API_KEY = \"<insert api key>\"\n",
        "\n",
        "geolocator = GoogleV3(api_key=API_KEY)"
      ],
      "metadata": {
        "id": "UXTLHPuJ8mJY"
      },
      "execution_count": null,
      "outputs": []
    },
    {
      "cell_type": "markdown",
      "source": [
        "Configure variables used to define input data format. Change these if changing the format of the election data."
      ],
      "metadata": {
        "id": "Ua7M2sGZiqSu"
      }
    },
    {
      "cell_type": "code",
      "source": [
        "COUNTRY = \"Hrvatska\"\n",
        "\n",
        "ADDRESS_COLUMN = \"Adresa BM\"\n",
        "CITY_COLUMN = \"Grad/općina/država\"\n",
        "\n",
        "POINT_COLUMN = \"geometry\""
      ],
      "metadata": {
        "collapsed": true,
        "id": "ibpIZ5E2kLGj"
      },
      "execution_count": null,
      "outputs": []
    },
    {
      "cell_type": "markdown",
      "source": [
        "Firstly, load and concatenate all election voting spot locations and convert their addresses to coordinates."
      ],
      "metadata": {
        "id": "xutU-Fjal3TS"
      }
    },
    {
      "cell_type": "code",
      "source": [
        "dataset = gpd.GeoDataFrame()\n",
        "\n",
        "for (path, dirnames, filenames) in os.walk(\"data\"):\n",
        "  for filename in filenames:\n",
        "    frame = pd.read_excel(os.sep.join([path, filename]))\n",
        "\n",
        "    dataset = pd.concat([dataset, frame])\n",
        "\n",
        "print(dataset)"
      ],
      "metadata": {
        "collapsed": true,
        "id": "4sTKniKxmFxe"
      },
      "execution_count": null,
      "outputs": []
    },
    {
      "cell_type": "code",
      "source": [
        "relevant_dataset = dataset.loc[:, [ADDRESS_COLUMN, CITY_COLUMN]] # Keep only the index and two location columns\n",
        "\n",
        "def make_complete_address_column(row):\n",
        "  return str(row[ADDRESS_COLUMN] + \", \" + row[CITY_COLUMN] + \", \" + COUNTRY)\n",
        "\n",
        "relevant_dataset[ADDRESS_COLUMN] = relevant_dataset.apply(make_complete_address_column, axis=1)\n",
        "relevant_dataset = relevant_dataset.drop(CITY_COLUMN, axis=1) # CITY_COLUMN data is now a part of ADDRESS_COLUMN\n",
        "\n",
        "print(relevant_dataset)"
      ],
      "metadata": {
        "collapsed": true,
        "id": "jFd2TyAu1_RJ"
      },
      "execution_count": null,
      "outputs": []
    },
    {
      "cell_type": "markdown",
      "source": [
        "The remaining column should be enough to geocode the address into the coordinates of the voting place"
      ],
      "metadata": {
        "id": "tIneNZxV5K1j"
      }
    },
    {
      "cell_type": "code",
      "source": [
        "point_column_data = []\n",
        "\n",
        "#relevant_dataset = relevant_dataset.drop(POINT_COLUMN, axis=1)\n",
        "\n",
        "for index, row in relevant_dataset.iterrows():\n",
        "  result = geolocator.geocode(row[ADDRESS_COLUMN], exactly_one=True)\n",
        "  point_column_data.append(result.point)\n",
        "\n",
        "  print(result)\n",
        "\n",
        "point_frame = gpd.GeoDataFrame({ POINT_COLUMN: point_column_data })\n",
        "relevant_dataset = relevant_dataset.join(point_frame)\n",
        "\n",
        "print(relevant_dataset)"
      ],
      "metadata": {
        "collapsed": true,
        "id": "U84Xqjas5F0X"
      },
      "execution_count": null,
      "outputs": []
    },
    {
      "cell_type": "code",
      "source": [
        "out_format = pd.DataFrame(relevant_dataset);\n",
        "out_format[\"longitude\"] = out_format[POINT_COLUMN].apply(lambda x: x.longitude)\n",
        "out_format[\"latitude\"] = out_format[POINT_COLUMN].apply(lambda x: x.latitude)\n",
        "\n",
        "out_format = out_format.drop(POINT_COLUMN, axis=1)\n",
        "\n",
        "print(out_format)\n",
        "\n",
        "out_format.to_csv(\"out_data.csv\")"
      ],
      "metadata": {
        "id": "2hDZWCW_Wy82"
      },
      "execution_count": null,
      "outputs": []
    }
  ]
}